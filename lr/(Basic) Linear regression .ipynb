{
 "cells": [
  {
   "cell_type": "code",
   "execution_count": 2,
   "metadata": {},
   "outputs": [],
   "source": [
    "import numpy as np # linear algebra\n",
    "import pandas as pd # data processing, CSV file I/O (e.g. pd.read_csv)\n",
    "from matplotlib import pyplot as plt"
   ]
  },
  {
   "cell_type": "code",
   "execution_count": 47,
   "metadata": {},
   "outputs": [],
   "source": [
    "train = pd.read_csv('../../input/train_V2.csv')\n",
    "test = pd.read_csv('../../input/test_V2.csv')"
   ]
  },
  {
   "cell_type": "code",
   "execution_count": 213,
   "metadata": {},
   "outputs": [],
   "source": [
    "group_lvl_features = pd.read_csv('../../input/groupLevelFeatures_train.csv')\n",
    "group_lvl_features_test = pd.read_csv('../../input/groupLevelFeatures_test.csv')"
   ]
  },
  {
   "cell_type": "code",
   "execution_count": 210,
   "metadata": {},
   "outputs": [
    {
     "data": {
      "text/plain": [
       "1.1144130414141749"
      ]
     },
     "execution_count": 210,
     "metadata": {},
     "output_type": "execute_result"
    }
   ],
   "source": [
    "def compute_dcg(ordered_relevance):\n",
    "    \n",
    "    dcg = 0\n",
    "    for i in range(len(ordered_relevance)):\n",
    "        numerator = ordered_relevance[i,1]\n",
    "        denomenator = np.log2(i + 2)\n",
    "        dcg += numerator/denomenator\n",
    "        \n",
    "        \n",
    "    return dcg\n",
    "\n",
    "def ndcg(match_expectations, match_predictions, rank=None): \n",
    "    a = match_expectations.reshape(len(match_expectations),1)\n",
    "    b = match_predictions.reshape(len(match_predictions),1)\n",
    "    combined_values = np.hstack((a,b))\n",
    "    \n",
    "    ordered_relevance = combined_values[combined_values[:,0].argsort()[::-1]]    \n",
    "    dcg = compute_dcg(combined_values)\n",
    "    \n",
    "    ideal_combination = np.hstack((a,a))\n",
    "    idcg = compute_dcg(ideal_combination)\n",
    "    \n",
    "    return dcg/idcg\n",
    "        \n",
    "    \n",
    "\n",
    "## Make sure the prediction output order is similar to data input order.\n",
    "ndcg(np.array([3,3,3,2,2,2]),np.array([4,3,3,2,2,2]))"
   ]
  },
  {
   "cell_type": "code",
   "execution_count": 271,
   "metadata": {},
   "outputs": [],
   "source": [
    "def getWinPlacePerc(dataset, predictions):\n",
    "    concatenated = pd.concat([dataset.reset_index(), pd.DataFrame({'Predicted': predictions})], axis=1)    \n",
    "    concatenated['rank'] = concatenated.groupby('matchId')['Predicted'].rank(method='dense')\n",
    "    concatenated['pr_winPlacePerc'] = (concatenated['rank'] - 1) / (concatenated['maxPlace'] - 1)\n",
    "    return concatenated"
   ]
  },
  {
   "cell_type": "code",
   "execution_count": 191,
   "metadata": {},
   "outputs": [],
   "source": [
    "feature_list = group_lvl_features.columns[2:]"
   ]
  },
  {
   "cell_type": "code",
   "execution_count": 90,
   "metadata": {},
   "outputs": [],
   "source": [
    "X = group_lvl_features[group_lvl_features.columns.intersection(feature_list)]\n",
    "y = group_lvl_features.merge(train[['groupId','maxPlace','winPlacePerc']], on='groupId', how='inner').drop_duplicates().reset_index()\n",
    "y['winPlacePerc'] = y['winPlacePerc'].fillna(0)"
   ]
  },
  {
   "cell_type": "code",
   "execution_count": 100,
   "metadata": {},
   "outputs": [],
   "source": [
    "from sklearn.model_selection import train_test_split\n",
    "\n",
    "X_train, X_test, y_train, y_test = train_test_split(X, y, test_size=0.33, random_state=42)"
   ]
  },
  {
   "cell_type": "code",
   "execution_count": 99,
   "metadata": {
    "scrolled": true
   },
   "outputs": [
    {
     "name": "stderr",
     "output_type": "stream",
     "text": [
      "/miniconda2/envs/AML/lib/python3.6/site-packages/sklearn/preprocessing/data.py:625: DataConversionWarning: Data with input dtype int64, float64 were all converted to float64 by StandardScaler.\n",
      "  return self.partial_fit(X, y)\n",
      "/miniconda2/envs/AML/lib/python3.6/site-packages/sklearn/base.py:462: DataConversionWarning: Data with input dtype int64, float64 were all converted to float64 by StandardScaler.\n",
      "  return self.fit(X, **fit_params).transform(X)\n"
     ]
    }
   ],
   "source": [
    "from sklearn.preprocessing import StandardScaler\n",
    "scaler = StandardScaler()\n",
    "X_train_n = scaler.fit_transform(X_train)"
   ]
  },
  {
   "cell_type": "code",
   "execution_count": 254,
   "metadata": {},
   "outputs": [
    {
     "name": "stdout",
     "output_type": "stream",
     "text": [
      "[0.22946234283853859, 0.22904340550977, 0.22902947482433633, 0.22913028550732206, 0.22923803177710955]\n",
      "[0.5517194415222963, 0.5522708145613126, 0.5521595876756225, 0.5521512725443813, 0.5519883180027962]\n",
      "[0.4144666034646532, 0.4158643885062195, 0.4160532025236654, 0.41564943349048367, 0.41542140706456226]\n",
      "[0.17222741102010689, 0.17176879099304018, 0.17183912955389968, 0.17205484940986804, 0.17204283779698576]\n"
     ]
    }
   ],
   "source": [
    "from sklearn.linear_model import LinearRegression\n",
    "\n",
    "from sklearn.metrics import mean_absolute_error\n",
    "\n",
    "from sklearn.model_selection import KFold\n",
    "\n",
    "kf = KFold(n_splits=5)\n",
    "\n",
    "train_mae = list()\n",
    "train_ndcg = list()\n",
    "test_mae = list()\n",
    "test_ndcg = list()\n",
    "\n",
    "for train_index, test_index in kf.split(X_train):\n",
    "\n",
    "    train_f, train_l = X_train_n[train_index], y_train.iloc[train_index]\n",
    "    test_f, test_l = X_train_n[test_index], y_train.iloc[test_index]#.values\n",
    "    \n",
    "    reg = LinearRegression().fit(train_f, train_l['winPlacePerc'].values)\n",
    "    \n",
    "    trainMergedScoreRank = getWinPlacePerc(train_l,reg.predict(train_f))\n",
    "    testMergedScoreRank = getWinPlacePerc(test_l,reg.predict(test_f))\n",
    "    \n",
    "    train_pred = trainMergedScoreRank['pr_winPlacePerc'].values\n",
    "    test_pred = testMergedScoreRank['pr_winPlacePerc'].values\n",
    "    \n",
    "    train_mae.append(mean_absolute_error(train_l['winPlacePerc'].values, train_pred))\n",
    "    train_ndcg.append(ndcg(train_l['winPlacePerc'].values, train_pred))\n",
    "    \n",
    "    test_mae.append(mean_absolute_error(test_l['winPlacePerc'].values, test_pred))\n",
    "    test_ndcg.append(ndcg(test_l['winPlacePerc'].values, test_pred))\n",
    "    \n",
    "print(train_mae)\n",
    "print(train_ndcg)\n",
    "print(test_mae)\n",
    "print(test_ndcg)"
   ]
  },
  {
   "cell_type": "code",
   "execution_count": 260,
   "metadata": {},
   "outputs": [],
   "source": [
    "train_mae_mean = np.mean(train_mae)\n",
    "train_mae_std = np.std(train_mae)\n",
    "\n",
    "train_ndcg_mean = np.mean(train_ndcg)\n",
    "train_ndcg_std = np.std(train_ndcg)\n",
    "\n",
    "test_mae_mean = np.mean(test_mae)\n",
    "test_mae_std = np.std(test_mae)\n",
    "\n",
    "test_ndcg_mean = np.mean(test_ndcg)\n",
    "test_ndcg_std = np.std(test_ndcg)\n",
    "\n",
    "means_mae = [train_mae_mean, test_mae_mean]\n",
    "std_mae = [train_mae_std,test_mae_std]\n",
    "\n",
    "means_ndcg = [train_ndcg_mean, test_ndcg_mean]\n",
    "std_ndcg = [test_mae_std,test_ndcg_std]"
   ]
  },
  {
   "cell_type": "code",
   "execution_count": 264,
   "metadata": {},
   "outputs": [
    {
     "data": {
      "text/plain": [
       "[0.17222741102010689,\n",
       " 0.17176879099304018,\n",
       " 0.17183912955389968,\n",
       " 0.17205484940986804,\n",
       " 0.17204283779698576]"
      ]
     },
     "execution_count": 264,
     "metadata": {},
     "output_type": "execute_result"
    }
   ],
   "source": [
    "test_ndcg"
   ]
  },
  {
   "cell_type": "code",
   "execution_count": 267,
   "metadata": {},
   "outputs": [
    {
     "data": {
      "text/plain": [
       "([<matplotlib.axis.XTick at 0x3383cc080>],\n",
       " <a list of 1 Text xticklabel objects>)"
      ]
     },
     "execution_count": 267,
     "metadata": {},
     "output_type": "execute_result"
    },
    {
     "data": {
      "image/png": "[encoded data removed]",
      "text/plain": [
       "<Figure size 432x288 with 1 Axes>"
      ]
     },
     "metadata": {
      "needs_background": "light"
     },
     "output_type": "display_data"
    },
    {
     "data": {
      "image/png": "[encoded data removed]",
      "text/plain": [
       "<Figure size 432x288 with 1 Axes>"
      ]
     },
     "metadata": {
      "needs_background": "light"
     },
     "output_type": "display_data"
    },
    {
     "data": {
      "image/png": "[encoded data removed]",
      "text/plain": [
       "<Figure size 432x288 with 1 Axes>"
      ]
     },
     "metadata": {
      "needs_background": "light"
     },
     "output_type": "display_data"
    },
    {
     "data": {
      "image/png": "[encoded data removed]",
      "text/plain": [
       "<Figure size 432x288 with 1 Axes>"
      ]
     },
     "metadata": {
      "needs_background": "light"
     },
     "output_type": "display_data"
    }
   ],
   "source": [
    "plt.title('Train Mean Absolute Error')\n",
    "plt.boxplot([train_mae])\n",
    "plt.xticks([1], ['Linear Regression'])\n",
    "\n",
    "plt.figure()\n",
    "plt.title('Test Mean Absolute Error')\n",
    "plt.boxplot([test_mae])\n",
    "plt.xticks([1], ['Linear Regression'])\n",
    "\n",
    "plt.figure()\n",
    "plt.title('Train Normalized Disctounted Cumulative Gain')\n",
    "plt.boxplot([train_ndcg])\n",
    "plt.xticks([1], ['Linear Regression'])\n",
    "\n",
    "plt.figure()\n",
    "plt.title('Test Normalized Disctounted Cumulative Gain')\n",
    "plt.boxplot([test_ndcg])\n",
    "plt.xticks([1], ['Linear Regression'])"
   ]
  },
  {
   "cell_type": "code",
   "execution_count": 193,
   "metadata": {},
   "outputs": [
    {
     "name": "stderr",
     "output_type": "stream",
     "text": [
      "/miniconda2/envs/AML/lib/python3.6/site-packages/ipykernel_launcher.py:1: DataConversionWarning: Data with input dtype int64, float64 were all converted to float64 by StandardScaler.\n",
      "  \"\"\"Entry point for launching an IPython kernel.\n"
     ]
    }
   ],
   "source": [
    "X_test_n = scaler.transform(X_test)"
   ]
  },
  {
   "cell_type": "code",
   "execution_count": 197,
   "metadata": {},
   "outputs": [
    {
     "name": "stdout",
     "output_type": "stream",
     "text": [
      "Train r2 score: 0.8988101960665728\n",
      "Test r2 score: 0.8982311115163029\n"
     ]
    }
   ],
   "source": [
    "lr = LinearRegression().fit(X_train_n, y_train['winPlacePerc'].values)\n",
    "print(\"Train r2 score: \" + str(lr.score(X_train_n, y_train['winPlacePerc'].values)))\n",
    "print(\"Test r2 score: \" + str(lr.score(X_test_n, y_test['winPlacePerc'].values)))"
   ]
  },
  {
   "cell_type": "code",
   "execution_count": 207,
   "metadata": {
    "scrolled": true
   },
   "outputs": [
    {
     "name": "stdout",
     "output_type": "stream",
     "text": [
      "mean absolute error: 0.1692837932183732\n",
      "NDCG score: 0.678783503675522\n"
     ]
    }
   ],
   "source": [
    "train_predictions = lr.predict(X_train_n)\n",
    "mergedRank = getWinPlacePerc(y_train, train_predictions, train)\n",
    "train_predictions_ranked = mergedRank['pr_winPlacePerc'].values\n",
    "\n",
    "print(\"mean absolute error: \" + str(mean_absolute_error(y_train['winPlacePerc'].values, train_predictions_ranked)))\n",
    "print(\"NDCG score: \" + str(ndcg(y_train['winPlacePerc'].values, train_predictions_ranked)))"
   ]
  },
  {
   "cell_type": "code",
   "execution_count": 272,
   "metadata": {},
   "outputs": [
    {
     "data": {
      "text/plain": [
       "-3.7439548659947124"
      ]
     },
     "execution_count": 272,
     "metadata": {},
     "output_type": "execute_result"
    }
   ],
   "source": [
    "np.min(train_predictions)"
   ]
  },
  {
   "cell_type": "code",
   "execution_count": 209,
   "metadata": {},
   "outputs": [
    {
     "name": "stdout",
     "output_type": "stream",
     "text": [
      "mean absolute error: 0.32421226492101113\n",
      "NDCG score: 0.35723734015095016\n"
     ]
    }
   ],
   "source": [
    "test_predictions = lr.predict(X_test_n)\n",
    "testMergedRank = getWinPlacePerc(y_test, test_predictions, train)\n",
    "test_predictions_ranked = testMergedRank['pr_winPlacePerc'].values\n",
    "\n",
    "print(\"mean absolute error: \" + str(mean_absolute_error(y_test['winPlacePerc'].values, test_predictions_ranked)))\n",
    "print(\"NDCG score: \" + str(ndcg(y_test['winPlacePerc'].values, test_predictions_ranked)))"
   ]
  },
  {
   "cell_type": "code",
   "execution_count": 217,
   "metadata": {},
   "outputs": [
    {
     "name": "stderr",
     "output_type": "stream",
     "text": [
      "/miniconda2/envs/AML/lib/python3.6/site-packages/ipykernel_launcher.py:1: DataConversionWarning: Data with input dtype int64, float64 were all converted to float64 by StandardScaler.\n",
      "  \"\"\"Entry point for launching an IPython kernel.\n"
     ]
    }
   ],
   "source": [
    "submission_preds = lr.predict(scaler.transform(group_lvl_features_test[group_lvl_features.columns.intersection(feature_list)]))\n",
    "testMergedRank = getWinPlacePerc2(group_lvl_features_test, submission_preds, test)\n",
    "submission_preds_ranked = testMergedRank['pr_winPlacePerc'].values"
   ]
  },
  {
   "cell_type": "code",
   "execution_count": 218,
   "metadata": {},
   "outputs": [
    {
     "data": {
      "text/plain": [
       "array([0.32142857, 1.04166667, 0.85714286, ...,        nan,        nan,\n",
       "              nan])"
      ]
     },
     "execution_count": 218,
     "metadata": {},
     "output_type": "execute_result"
    }
   ],
   "source": [
    "submission_preds_ranked"
   ]
  },
  {
   "cell_type": "code",
   "execution_count": 219,
   "metadata": {},
   "outputs": [
    {
     "data": {
      "text/plain": [
       "1934174"
      ]
     },
     "execution_count": 219,
     "metadata": {},
     "output_type": "execute_result"
    }
   ],
   "source": [
    "len(submission_preds_ranked)"
   ]
  },
  {
   "cell_type": "code",
   "execution_count": 220,
   "metadata": {},
   "outputs": [
    {
     "data": {
      "text/plain": [
       "886238"
      ]
     },
     "execution_count": 220,
     "metadata": {},
     "output_type": "execute_result"
    }
   ],
   "source": [
    "len(submission_preds)"
   ]
  },
  {
   "cell_type": "code",
   "execution_count": 247,
   "metadata": {},
   "outputs": [],
   "source": [
    "group_lvl_features_test_maxPlace = pd.merge(group_lvl_features_test, test[['Id','groupId','maxPlace']], on='groupId',how='right').drop_duplicates()\n",
    "submissionMergedRank = getWinPlacePerc(group_lvl_features_test_maxPlace, submission_preds)"
   ]
  },
  {
   "cell_type": "code",
   "execution_count": 252,
   "metadata": {},
   "outputs": [],
   "source": [
    "submissionMergedRank[['Id','pr_winPlacePerc']].to_csv(\"submission.csv\",index=False)"
   ]
  },
  {
   "cell_type": "code",
   "execution_count": null,
   "metadata": {},
   "outputs": [],
   "source": []
  }
 ],
 "metadata": {
  "kernelspec": {
   "display_name": "Python 3",
   "language": "python",
   "name": "python3"
  },
  "language_info": {
   "codemirror_mode": {
    "name": "ipython",
    "version": 3
   },
   "file_extension": ".py",
   "mimetype": "text/x-python",
   "name": "python",
   "nbconvert_exporter": "python",
   "pygments_lexer": "ipython3",
   "version": "3.6.7"
  }
 },
 "nbformat": 4,
 "nbformat_minor": 2
}
