{
 "cells": [
  {
   "cell_type": "code",
   "execution_count": 1,
   "metadata": {
    "_uuid": "d0a348bb991845367d0387b46b51b93d51e870b5"
   },
   "outputs": [],
   "source": [
    "### TODO:\n",
    "# 1. Do feature engineering on group level instead of user level\n",
    "# 2. Separate data between first person mode and free for all mode\n",
    "# 3. Eliminate cheaters and anomalies\n",
    "# 4. Develop prediction funcgion\n",
    "#    - Final ranking per match can be determined using this formula -> 100/maxPlace, as ranking interval"
   ]
  },
  {
   "cell_type": "code",
   "execution_count": 2,
   "metadata": {
    "_cell_guid": "b1076dfc-b9ad-4769-8c92-a6c4dae69d19",
    "_kg_hide-input": false,
    "_kg_hide-output": false,
    "_uuid": "8f2839f25d086af736a60e9eeb907d3b93b6e0e5"
   },
   "outputs": [],
   "source": [
    "import numpy as np # linear algebra\n",
    "import pandas as pd # data processing, CSV file I/O (e.g. pd.read_csv)\n",
    "import xgboost\n",
    "from matplotlib import pyplot as plt"
   ]
  },
  {
   "cell_type": "code",
   "execution_count": 3,
   "metadata": {
    "_cell_guid": "79c7e3d0-c299-4dcb-8224-4455121ee9b0",
    "_uuid": "d629ff2d2480ee46fbb7e2d37f6b5fab8052498a"
   },
   "outputs": [],
   "source": [
    "### Read training data\n",
    "train = pd.read_csv('train_V2.csv.zip')"
   ]
  },
  {
   "cell_type": "code",
   "execution_count": 4,
   "metadata": {
    "_uuid": "c555a306c22aa3ab1a76966e5d4f960629ddcfee"
   },
   "outputs": [
    {
     "data": {
      "text/plain": [
       "Index(['Id', 'groupId', 'matchId', 'assists', 'boosts', 'damageDealt', 'DBNOs',\n",
       "       'headshotKills', 'heals', 'killPlace', 'killPoints', 'kills',\n",
       "       'killStreaks', 'longestKill', 'matchDuration', 'matchType', 'maxPlace',\n",
       "       'numGroups', 'rankPoints', 'revives', 'rideDistance', 'roadKills',\n",
       "       'swimDistance', 'teamKills', 'vehicleDestroys', 'walkDistance',\n",
       "       'weaponsAcquired', 'winPoints', 'winPlacePerc'],\n",
       "      dtype='object')"
      ]
     },
     "execution_count": 4,
     "metadata": {},
     "output_type": "execute_result"
    }
   ],
   "source": [
    "train.columns"
   ]
  },
  {
   "cell_type": "code",
   "execution_count": 5,
   "metadata": {
    "_uuid": "8da4039875f4c4557db1d540d3b0f1239974aaf6"
   },
   "outputs": [
    {
     "data": {
      "text/html": [
       "<div>\n",
       "<style scoped>\n",
       "    .dataframe tbody tr th:only-of-type {\n",
       "        vertical-align: middle;\n",
       "    }\n",
       "\n",
       "    .dataframe tbody tr th {\n",
       "        vertical-align: top;\n",
       "    }\n",
       "\n",
       "    .dataframe thead th {\n",
       "        text-align: right;\n",
       "    }\n",
       "</style>\n",
       "<table border=\"1\" class=\"dataframe\">\n",
       "  <thead>\n",
       "    <tr style=\"text-align: right;\">\n",
       "      <th></th>\n",
       "      <th>Id</th>\n",
       "      <th>groupId</th>\n",
       "      <th>matchId</th>\n",
       "      <th>assists</th>\n",
       "      <th>boosts</th>\n",
       "      <th>damageDealt</th>\n",
       "      <th>DBNOs</th>\n",
       "      <th>headshotKills</th>\n",
       "      <th>heals</th>\n",
       "      <th>killPlace</th>\n",
       "      <th>...</th>\n",
       "      <th>revives</th>\n",
       "      <th>rideDistance</th>\n",
       "      <th>roadKills</th>\n",
       "      <th>swimDistance</th>\n",
       "      <th>teamKills</th>\n",
       "      <th>vehicleDestroys</th>\n",
       "      <th>walkDistance</th>\n",
       "      <th>weaponsAcquired</th>\n",
       "      <th>winPoints</th>\n",
       "      <th>winPlacePerc</th>\n",
       "    </tr>\n",
       "  </thead>\n",
       "  <tbody>\n",
       "    <tr>\n",
       "      <th>0</th>\n",
       "      <td>7f96b2f878858a</td>\n",
       "      <td>4d4b580de459be</td>\n",
       "      <td>a10357fd1a4a91</td>\n",
       "      <td>0</td>\n",
       "      <td>0</td>\n",
       "      <td>0.00</td>\n",
       "      <td>0</td>\n",
       "      <td>0</td>\n",
       "      <td>0</td>\n",
       "      <td>60</td>\n",
       "      <td>...</td>\n",
       "      <td>0</td>\n",
       "      <td>0.0000</td>\n",
       "      <td>0</td>\n",
       "      <td>0.00</td>\n",
       "      <td>0</td>\n",
       "      <td>0</td>\n",
       "      <td>244.80</td>\n",
       "      <td>1</td>\n",
       "      <td>1466</td>\n",
       "      <td>0.4444</td>\n",
       "    </tr>\n",
       "    <tr>\n",
       "      <th>1</th>\n",
       "      <td>eef90569b9d03c</td>\n",
       "      <td>684d5656442f9e</td>\n",
       "      <td>aeb375fc57110c</td>\n",
       "      <td>0</td>\n",
       "      <td>0</td>\n",
       "      <td>91.47</td>\n",
       "      <td>0</td>\n",
       "      <td>0</td>\n",
       "      <td>0</td>\n",
       "      <td>57</td>\n",
       "      <td>...</td>\n",
       "      <td>0</td>\n",
       "      <td>0.0045</td>\n",
       "      <td>0</td>\n",
       "      <td>11.04</td>\n",
       "      <td>0</td>\n",
       "      <td>0</td>\n",
       "      <td>1434.00</td>\n",
       "      <td>5</td>\n",
       "      <td>0</td>\n",
       "      <td>0.6400</td>\n",
       "    </tr>\n",
       "    <tr>\n",
       "      <th>2</th>\n",
       "      <td>1eaf90ac73de72</td>\n",
       "      <td>6a4a42c3245a74</td>\n",
       "      <td>110163d8bb94ae</td>\n",
       "      <td>1</td>\n",
       "      <td>0</td>\n",
       "      <td>68.00</td>\n",
       "      <td>0</td>\n",
       "      <td>0</td>\n",
       "      <td>0</td>\n",
       "      <td>47</td>\n",
       "      <td>...</td>\n",
       "      <td>0</td>\n",
       "      <td>0.0000</td>\n",
       "      <td>0</td>\n",
       "      <td>0.00</td>\n",
       "      <td>0</td>\n",
       "      <td>0</td>\n",
       "      <td>161.80</td>\n",
       "      <td>2</td>\n",
       "      <td>0</td>\n",
       "      <td>0.7755</td>\n",
       "    </tr>\n",
       "    <tr>\n",
       "      <th>3</th>\n",
       "      <td>4616d365dd2853</td>\n",
       "      <td>a930a9c79cd721</td>\n",
       "      <td>f1f1f4ef412d7e</td>\n",
       "      <td>0</td>\n",
       "      <td>0</td>\n",
       "      <td>32.90</td>\n",
       "      <td>0</td>\n",
       "      <td>0</td>\n",
       "      <td>0</td>\n",
       "      <td>75</td>\n",
       "      <td>...</td>\n",
       "      <td>0</td>\n",
       "      <td>0.0000</td>\n",
       "      <td>0</td>\n",
       "      <td>0.00</td>\n",
       "      <td>0</td>\n",
       "      <td>0</td>\n",
       "      <td>202.70</td>\n",
       "      <td>3</td>\n",
       "      <td>0</td>\n",
       "      <td>0.1667</td>\n",
       "    </tr>\n",
       "    <tr>\n",
       "      <th>4</th>\n",
       "      <td>315c96c26c9aac</td>\n",
       "      <td>de04010b3458dd</td>\n",
       "      <td>6dc8ff871e21e6</td>\n",
       "      <td>0</td>\n",
       "      <td>0</td>\n",
       "      <td>100.00</td>\n",
       "      <td>0</td>\n",
       "      <td>0</td>\n",
       "      <td>0</td>\n",
       "      <td>45</td>\n",
       "      <td>...</td>\n",
       "      <td>0</td>\n",
       "      <td>0.0000</td>\n",
       "      <td>0</td>\n",
       "      <td>0.00</td>\n",
       "      <td>0</td>\n",
       "      <td>0</td>\n",
       "      <td>49.75</td>\n",
       "      <td>2</td>\n",
       "      <td>0</td>\n",
       "      <td>0.1875</td>\n",
       "    </tr>\n",
       "  </tbody>\n",
       "</table>\n",
       "<p>5 rows × 29 columns</p>\n",
       "</div>"
      ],
      "text/plain": [
       "               Id         groupId         matchId  assists  boosts  \\\n",
       "0  7f96b2f878858a  4d4b580de459be  a10357fd1a4a91        0       0   \n",
       "1  eef90569b9d03c  684d5656442f9e  aeb375fc57110c        0       0   \n",
       "2  1eaf90ac73de72  6a4a42c3245a74  110163d8bb94ae        1       0   \n",
       "3  4616d365dd2853  a930a9c79cd721  f1f1f4ef412d7e        0       0   \n",
       "4  315c96c26c9aac  de04010b3458dd  6dc8ff871e21e6        0       0   \n",
       "\n",
       "   damageDealt  DBNOs  headshotKills  heals  killPlace      ...       revives  \\\n",
       "0         0.00      0              0      0         60      ...             0   \n",
       "1        91.47      0              0      0         57      ...             0   \n",
       "2        68.00      0              0      0         47      ...             0   \n",
       "3        32.90      0              0      0         75      ...             0   \n",
       "4       100.00      0              0      0         45      ...             0   \n",
       "\n",
       "   rideDistance  roadKills  swimDistance  teamKills vehicleDestroys  \\\n",
       "0        0.0000          0          0.00          0               0   \n",
       "1        0.0045          0         11.04          0               0   \n",
       "2        0.0000          0          0.00          0               0   \n",
       "3        0.0000          0          0.00          0               0   \n",
       "4        0.0000          0          0.00          0               0   \n",
       "\n",
       "   walkDistance  weaponsAcquired  winPoints  winPlacePerc  \n",
       "0        244.80                1       1466        0.4444  \n",
       "1       1434.00                5          0        0.6400  \n",
       "2        161.80                2          0        0.7755  \n",
       "3        202.70                3          0        0.1667  \n",
       "4         49.75                2          0        0.1875  \n",
       "\n",
       "[5 rows x 29 columns]"
      ]
     },
     "execution_count": 5,
     "metadata": {},
     "output_type": "execute_result"
    }
   ],
   "source": [
    "train.head(5)"
   ]
  },
  {
   "cell_type": "code",
   "execution_count": 6,
   "metadata": {
    "_uuid": "1e5d68b2c497ede5d836b8f4db13e61875c088da"
   },
   "outputs": [],
   "source": [
    "from pylab import rcParams\n",
    "rcParams['figure.figsize'] = 10, 8"
   ]
  },
  {
   "cell_type": "code",
   "execution_count": 7,
   "metadata": {
    "_uuid": "f8f0286de3fb905bb08918ce4192c313f5dc6434"
   },
   "outputs": [],
   "source": [
    "matchTypes = train.groupby('matchId')['matchType'].first().value_counts()"
   ]
  },
  {
   "cell_type": "code",
   "execution_count": 8,
   "metadata": {
    "_uuid": "2771c70f1e3a4408e695b1c3cdc3d4a3ec593225"
   },
   "outputs": [
    {
     "data": {
      "text/plain": [
       "Index(['squad-fpp', 'duo-fpp', 'squad', 'solo-fpp', 'duo', 'solo',\n",
       "       'normal-squad-fpp', 'normal-duo-fpp', 'normal-solo-fpp', 'crashfpp',\n",
       "       'flaretpp', 'normal-solo', 'normal-squad', 'normal-duo', 'flarefpp',\n",
       "       'crashtpp'],\n",
       "      dtype='object')"
      ]
     },
     "execution_count": 8,
     "metadata": {},
     "output_type": "execute_result"
    }
   ],
   "source": [
    "matchTypes.index"
   ]
  },
  {
   "cell_type": "code",
   "execution_count": 9,
   "metadata": {
    "_uuid": "270bef41339044c3e5488bb37b10f740093a6f17"
   },
   "outputs": [
    {
     "data": {
      "image/png": "[encoded data removed]",
      "text/plain": [
       "<Figure size 720x576 with 1 Axes>"
      ]
     },
     "metadata": {
      "needs_background": "light"
     },
     "output_type": "display_data"
    }
   ],
   "source": [
    "fig, ax = plt.subplots()\n",
    "ax.bar(np.arange(len(matchTypes.index)),matchTypes.values,align='center')\n",
    "ax.set_xticks(np.arange(len(matchTypes.index)))\n",
    "ax.set_xticklabels(matchTypes.index,rotation=70)\n",
    "plt.title(\"Match type queue distribution\")\n",
    "plt.show()\n"
   ]
  },
  {
   "cell_type": "markdown",
   "metadata": {
    "_uuid": "48216017ab09ec68f1edc75da4bbd4b94eef46b4"
   },
   "source": [
    "### 1. Group Level Inspection and Feature Engineering"
   ]
  },
  {
   "cell_type": "markdown",
   "metadata": {
    "_uuid": "f9f9f625d3fea5995f2fc01a6984f6c491f216a5"
   },
   "source": [
    "Features need to be generated on a group level. Below is the explanation. Let's inspect data for matchId **a10357fd1a4a91**"
   ]
  },
  {
   "cell_type": "code",
   "execution_count": 10,
   "metadata": {
    "_uuid": "8fcb4eeaffd4b0ed259c71c4e0ee9b69899aad7a"
   },
   "outputs": [],
   "source": [
    "### Inspect a match data\n",
    "matchA_df = train[train.matchId == 'a10357fd1a4a91']"
   ]
  },
  {
   "cell_type": "code",
   "execution_count": 11,
   "metadata": {
    "_uuid": "8ffecbf28a51ae6e9230c53cd304222c24a685ae"
   },
   "outputs": [
    {
     "data": {
      "text/html": [
       "<div>\n",
       "<style scoped>\n",
       "    .dataframe tbody tr th:only-of-type {\n",
       "        vertical-align: middle;\n",
       "    }\n",
       "\n",
       "    .dataframe tbody tr th {\n",
       "        vertical-align: top;\n",
       "    }\n",
       "\n",
       "    .dataframe thead th {\n",
       "        text-align: right;\n",
       "    }\n",
       "</style>\n",
       "<table border=\"1\" class=\"dataframe\">\n",
       "  <thead>\n",
       "    <tr style=\"text-align: right;\">\n",
       "      <th></th>\n",
       "      <th>Id</th>\n",
       "      <th>groupId</th>\n",
       "      <th>matchId</th>\n",
       "      <th>assists</th>\n",
       "      <th>boosts</th>\n",
       "      <th>damageDealt</th>\n",
       "      <th>DBNOs</th>\n",
       "      <th>headshotKills</th>\n",
       "      <th>heals</th>\n",
       "      <th>killPlace</th>\n",
       "      <th>...</th>\n",
       "      <th>revives</th>\n",
       "      <th>rideDistance</th>\n",
       "      <th>roadKills</th>\n",
       "      <th>swimDistance</th>\n",
       "      <th>teamKills</th>\n",
       "      <th>vehicleDestroys</th>\n",
       "      <th>walkDistance</th>\n",
       "      <th>weaponsAcquired</th>\n",
       "      <th>winPoints</th>\n",
       "      <th>winPlacePerc</th>\n",
       "    </tr>\n",
       "  </thead>\n",
       "  <tbody>\n",
       "    <tr>\n",
       "      <th>675029</th>\n",
       "      <td>34673dfdd74aae</td>\n",
       "      <td>654c638629b8fc</td>\n",
       "      <td>a10357fd1a4a91</td>\n",
       "      <td>0</td>\n",
       "      <td>2</td>\n",
       "      <td>292.80</td>\n",
       "      <td>2</td>\n",
       "      <td>0</td>\n",
       "      <td>1</td>\n",
       "      <td>10</td>\n",
       "      <td>...</td>\n",
       "      <td>0</td>\n",
       "      <td>0.0</td>\n",
       "      <td>0</td>\n",
       "      <td>0.0</td>\n",
       "      <td>0</td>\n",
       "      <td>0</td>\n",
       "      <td>359.90</td>\n",
       "      <td>3</td>\n",
       "      <td>1464</td>\n",
       "      <td>0.4815</td>\n",
       "    </tr>\n",
       "    <tr>\n",
       "      <th>1698681</th>\n",
       "      <td>cc2bdb64c03e47</td>\n",
       "      <td>654c638629b8fc</td>\n",
       "      <td>a10357fd1a4a91</td>\n",
       "      <td>0</td>\n",
       "      <td>0</td>\n",
       "      <td>71.72</td>\n",
       "      <td>2</td>\n",
       "      <td>0</td>\n",
       "      <td>0</td>\n",
       "      <td>18</td>\n",
       "      <td>...</td>\n",
       "      <td>0</td>\n",
       "      <td>0.0</td>\n",
       "      <td>0</td>\n",
       "      <td>0.0</td>\n",
       "      <td>0</td>\n",
       "      <td>0</td>\n",
       "      <td>174.00</td>\n",
       "      <td>2</td>\n",
       "      <td>1581</td>\n",
       "      <td>0.4815</td>\n",
       "    </tr>\n",
       "    <tr>\n",
       "      <th>2315578</th>\n",
       "      <td>39d06340eceb4b</td>\n",
       "      <td>654c638629b8fc</td>\n",
       "      <td>a10357fd1a4a91</td>\n",
       "      <td>0</td>\n",
       "      <td>0</td>\n",
       "      <td>54.18</td>\n",
       "      <td>0</td>\n",
       "      <td>0</td>\n",
       "      <td>1</td>\n",
       "      <td>55</td>\n",
       "      <td>...</td>\n",
       "      <td>0</td>\n",
       "      <td>0.0</td>\n",
       "      <td>0</td>\n",
       "      <td>0.0</td>\n",
       "      <td>0</td>\n",
       "      <td>0</td>\n",
       "      <td>279.60</td>\n",
       "      <td>2</td>\n",
       "      <td>1578</td>\n",
       "      <td>0.4815</td>\n",
       "    </tr>\n",
       "    <tr>\n",
       "      <th>2384171</th>\n",
       "      <td>3c522b145e176b</td>\n",
       "      <td>654c638629b8fc</td>\n",
       "      <td>a10357fd1a4a91</td>\n",
       "      <td>0</td>\n",
       "      <td>0</td>\n",
       "      <td>0.00</td>\n",
       "      <td>0</td>\n",
       "      <td>0</td>\n",
       "      <td>0</td>\n",
       "      <td>57</td>\n",
       "      <td>...</td>\n",
       "      <td>0</td>\n",
       "      <td>0.0</td>\n",
       "      <td>0</td>\n",
       "      <td>0.0</td>\n",
       "      <td>0</td>\n",
       "      <td>0</td>\n",
       "      <td>230.70</td>\n",
       "      <td>3</td>\n",
       "      <td>1593</td>\n",
       "      <td>0.4815</td>\n",
       "    </tr>\n",
       "    <tr>\n",
       "      <th>3124027</th>\n",
       "      <td>8d7d8bcb5d4d60</td>\n",
       "      <td>654c638629b8fc</td>\n",
       "      <td>a10357fd1a4a91</td>\n",
       "      <td>0</td>\n",
       "      <td>0</td>\n",
       "      <td>0.00</td>\n",
       "      <td>0</td>\n",
       "      <td>0</td>\n",
       "      <td>0</td>\n",
       "      <td>58</td>\n",
       "      <td>...</td>\n",
       "      <td>0</td>\n",
       "      <td>0.0</td>\n",
       "      <td>0</td>\n",
       "      <td>0.0</td>\n",
       "      <td>0</td>\n",
       "      <td>0</td>\n",
       "      <td>385.40</td>\n",
       "      <td>3</td>\n",
       "      <td>1444</td>\n",
       "      <td>0.4815</td>\n",
       "    </tr>\n",
       "    <tr>\n",
       "      <th>3794495</th>\n",
       "      <td>bc3165e8591dc6</td>\n",
       "      <td>654c638629b8fc</td>\n",
       "      <td>a10357fd1a4a91</td>\n",
       "      <td>0</td>\n",
       "      <td>0</td>\n",
       "      <td>0.00</td>\n",
       "      <td>0</td>\n",
       "      <td>0</td>\n",
       "      <td>0</td>\n",
       "      <td>59</td>\n",
       "      <td>...</td>\n",
       "      <td>0</td>\n",
       "      <td>0.0</td>\n",
       "      <td>0</td>\n",
       "      <td>0.0</td>\n",
       "      <td>0</td>\n",
       "      <td>0</td>\n",
       "      <td>13.05</td>\n",
       "      <td>0</td>\n",
       "      <td>1433</td>\n",
       "      <td>0.4815</td>\n",
       "    </tr>\n",
       "    <tr>\n",
       "      <th>3901118</th>\n",
       "      <td>b5594651b8c66e</td>\n",
       "      <td>654c638629b8fc</td>\n",
       "      <td>a10357fd1a4a91</td>\n",
       "      <td>1</td>\n",
       "      <td>1</td>\n",
       "      <td>100.00</td>\n",
       "      <td>1</td>\n",
       "      <td>0</td>\n",
       "      <td>0</td>\n",
       "      <td>56</td>\n",
       "      <td>...</td>\n",
       "      <td>0</td>\n",
       "      <td>0.0</td>\n",
       "      <td>0</td>\n",
       "      <td>0.0</td>\n",
       "      <td>0</td>\n",
       "      <td>0</td>\n",
       "      <td>441.60</td>\n",
       "      <td>2</td>\n",
       "      <td>1504</td>\n",
       "      <td>0.4815</td>\n",
       "    </tr>\n",
       "    <tr>\n",
       "      <th>3910749</th>\n",
       "      <td>37e2da1e80c3d2</td>\n",
       "      <td>654c638629b8fc</td>\n",
       "      <td>a10357fd1a4a91</td>\n",
       "      <td>2</td>\n",
       "      <td>0</td>\n",
       "      <td>312.10</td>\n",
       "      <td>2</td>\n",
       "      <td>1</td>\n",
       "      <td>0</td>\n",
       "      <td>17</td>\n",
       "      <td>...</td>\n",
       "      <td>1</td>\n",
       "      <td>0.0</td>\n",
       "      <td>0</td>\n",
       "      <td>0.0</td>\n",
       "      <td>1</td>\n",
       "      <td>0</td>\n",
       "      <td>291.10</td>\n",
       "      <td>7</td>\n",
       "      <td>1567</td>\n",
       "      <td>0.4815</td>\n",
       "    </tr>\n",
       "  </tbody>\n",
       "</table>\n",
       "<p>8 rows × 29 columns</p>\n",
       "</div>"
      ],
      "text/plain": [
       "                     Id         groupId         matchId  assists  boosts  \\\n",
       "675029   34673dfdd74aae  654c638629b8fc  a10357fd1a4a91        0       2   \n",
       "1698681  cc2bdb64c03e47  654c638629b8fc  a10357fd1a4a91        0       0   \n",
       "2315578  39d06340eceb4b  654c638629b8fc  a10357fd1a4a91        0       0   \n",
       "2384171  3c522b145e176b  654c638629b8fc  a10357fd1a4a91        0       0   \n",
       "3124027  8d7d8bcb5d4d60  654c638629b8fc  a10357fd1a4a91        0       0   \n",
       "3794495  bc3165e8591dc6  654c638629b8fc  a10357fd1a4a91        0       0   \n",
       "3901118  b5594651b8c66e  654c638629b8fc  a10357fd1a4a91        1       1   \n",
       "3910749  37e2da1e80c3d2  654c638629b8fc  a10357fd1a4a91        2       0   \n",
       "\n",
       "         damageDealt  DBNOs  headshotKills  heals  killPlace      ...       \\\n",
       "675029        292.80      2              0      1         10      ...        \n",
       "1698681        71.72      2              0      0         18      ...        \n",
       "2315578        54.18      0              0      1         55      ...        \n",
       "2384171         0.00      0              0      0         57      ...        \n",
       "3124027         0.00      0              0      0         58      ...        \n",
       "3794495         0.00      0              0      0         59      ...        \n",
       "3901118       100.00      1              0      0         56      ...        \n",
       "3910749       312.10      2              1      0         17      ...        \n",
       "\n",
       "         revives  rideDistance  roadKills  swimDistance  teamKills  \\\n",
       "675029         0           0.0          0           0.0          0   \n",
       "1698681        0           0.0          0           0.0          0   \n",
       "2315578        0           0.0          0           0.0          0   \n",
       "2384171        0           0.0          0           0.0          0   \n",
       "3124027        0           0.0          0           0.0          0   \n",
       "3794495        0           0.0          0           0.0          0   \n",
       "3901118        0           0.0          0           0.0          0   \n",
       "3910749        1           0.0          0           0.0          1   \n",
       "\n",
       "        vehicleDestroys  walkDistance  weaponsAcquired  winPoints  \\\n",
       "675029                0        359.90                3       1464   \n",
       "1698681               0        174.00                2       1581   \n",
       "2315578               0        279.60                2       1578   \n",
       "2384171               0        230.70                3       1593   \n",
       "3124027               0        385.40                3       1444   \n",
       "3794495               0         13.05                0       1433   \n",
       "3901118               0        441.60                2       1504   \n",
       "3910749               0        291.10                7       1567   \n",
       "\n",
       "         winPlacePerc  \n",
       "675029         0.4815  \n",
       "1698681        0.4815  \n",
       "2315578        0.4815  \n",
       "2384171        0.4815  \n",
       "3124027        0.4815  \n",
       "3794495        0.4815  \n",
       "3901118        0.4815  \n",
       "3910749        0.4815  \n",
       "\n",
       "[8 rows x 29 columns]"
      ]
     },
     "execution_count": 11,
     "metadata": {},
     "output_type": "execute_result"
    }
   ],
   "source": [
    "### Inspect a group\n",
    "matchA_df[matchA_df.groupId == '654c638629b8fc']"
   ]
  },
  {
   "cell_type": "code",
   "execution_count": 12,
   "metadata": {
    "_uuid": "10e2225a7ddeaab5a7ddcbe159e658d88f40589c"
   },
   "outputs": [],
   "source": [
    "### select groupIds in a match\n",
    "playerGroups = matchA_df[['Id','groupId']]"
   ]
  },
  {
   "cell_type": "code",
   "execution_count": 13,
   "metadata": {
    "_uuid": "f9cbe73bd6a3422abab6377d9a1c55b4129db045"
   },
   "outputs": [],
   "source": [
    "### Number of players per group\n",
    "playerCountGroup = playerGroups.groupby('groupId',as_index=False).agg({'Id':'count'}).sort_values('Id').rename(columns={\"Id\":\"players\"}).reset_index(drop=True)"
   ]
  },
  {
   "cell_type": "code",
   "execution_count": 14,
   "metadata": {
    "_uuid": "33e1d54f2671fd751b0386a540f63b82f0c5a3b2"
   },
   "outputs": [
    {
     "data": {
      "text/html": [
       "<div>\n",
       "<style scoped>\n",
       "    .dataframe tbody tr th:only-of-type {\n",
       "        vertical-align: middle;\n",
       "    }\n",
       "\n",
       "    .dataframe tbody tr th {\n",
       "        vertical-align: top;\n",
       "    }\n",
       "\n",
       "    .dataframe thead th {\n",
       "        text-align: right;\n",
       "    }\n",
       "</style>\n",
       "<table border=\"1\" class=\"dataframe\">\n",
       "  <thead>\n",
       "    <tr style=\"text-align: right;\">\n",
       "      <th></th>\n",
       "      <th>groupId</th>\n",
       "      <th>players</th>\n",
       "    </tr>\n",
       "  </thead>\n",
       "  <tbody>\n",
       "    <tr>\n",
       "      <th>0</th>\n",
       "      <td>1d31d15e045c4d</td>\n",
       "      <td>1</td>\n",
       "    </tr>\n",
       "    <tr>\n",
       "      <th>1</th>\n",
       "      <td>2cdf256e3c2c1d</td>\n",
       "      <td>1</td>\n",
       "    </tr>\n",
       "    <tr>\n",
       "      <th>2</th>\n",
       "      <td>0b4bf93ca082a4</td>\n",
       "      <td>2</td>\n",
       "    </tr>\n",
       "    <tr>\n",
       "      <th>3</th>\n",
       "      <td>30e393959e45ac</td>\n",
       "      <td>2</td>\n",
       "    </tr>\n",
       "    <tr>\n",
       "      <th>4</th>\n",
       "      <td>a27667dbecd7d7</td>\n",
       "      <td>2</td>\n",
       "    </tr>\n",
       "    <tr>\n",
       "      <th>5</th>\n",
       "      <td>168d1fc8ebe03c</td>\n",
       "      <td>3</td>\n",
       "    </tr>\n",
       "    <tr>\n",
       "      <th>6</th>\n",
       "      <td>2af5c87d86546d</td>\n",
       "      <td>3</td>\n",
       "    </tr>\n",
       "    <tr>\n",
       "      <th>7</th>\n",
       "      <td>2f8336736f3be2</td>\n",
       "      <td>3</td>\n",
       "    </tr>\n",
       "    <tr>\n",
       "      <th>8</th>\n",
       "      <td>d7d1cd054b0f5b</td>\n",
       "      <td>3</td>\n",
       "    </tr>\n",
       "    <tr>\n",
       "      <th>9</th>\n",
       "      <td>c92eb4405f4d3a</td>\n",
       "      <td>3</td>\n",
       "    </tr>\n",
       "    <tr>\n",
       "      <th>10</th>\n",
       "      <td>e93dfe8291d05c</td>\n",
       "      <td>3</td>\n",
       "    </tr>\n",
       "    <tr>\n",
       "      <th>11</th>\n",
       "      <td>e3b971e00acee4</td>\n",
       "      <td>4</td>\n",
       "    </tr>\n",
       "    <tr>\n",
       "      <th>12</th>\n",
       "      <td>92a09f0a596787</td>\n",
       "      <td>4</td>\n",
       "    </tr>\n",
       "    <tr>\n",
       "      <th>13</th>\n",
       "      <td>7e5fb71e05a678</td>\n",
       "      <td>4</td>\n",
       "    </tr>\n",
       "    <tr>\n",
       "      <th>14</th>\n",
       "      <td>74898d59ac4879</td>\n",
       "      <td>4</td>\n",
       "    </tr>\n",
       "    <tr>\n",
       "      <th>15</th>\n",
       "      <td>64903e9ba2e503</td>\n",
       "      <td>4</td>\n",
       "    </tr>\n",
       "    <tr>\n",
       "      <th>16</th>\n",
       "      <td>5ddf679672a972</td>\n",
       "      <td>4</td>\n",
       "    </tr>\n",
       "    <tr>\n",
       "      <th>17</th>\n",
       "      <td>5112ebf44e9575</td>\n",
       "      <td>4</td>\n",
       "    </tr>\n",
       "    <tr>\n",
       "      <th>18</th>\n",
       "      <td>4d4b580de459be</td>\n",
       "      <td>4</td>\n",
       "    </tr>\n",
       "    <tr>\n",
       "      <th>19</th>\n",
       "      <td>3fe42857a5d0e3</td>\n",
       "      <td>4</td>\n",
       "    </tr>\n",
       "    <tr>\n",
       "      <th>20</th>\n",
       "      <td>69c3ba1a23df2a</td>\n",
       "      <td>4</td>\n",
       "    </tr>\n",
       "    <tr>\n",
       "      <th>21</th>\n",
       "      <td>a269f08371068b</td>\n",
       "      <td>5</td>\n",
       "    </tr>\n",
       "    <tr>\n",
       "      <th>22</th>\n",
       "      <td>432b8256f23c7e</td>\n",
       "      <td>5</td>\n",
       "    </tr>\n",
       "    <tr>\n",
       "      <th>23</th>\n",
       "      <td>edbce070d4ee9d</td>\n",
       "      <td>5</td>\n",
       "    </tr>\n",
       "    <tr>\n",
       "      <th>24</th>\n",
       "      <td>80d9f9014c6e68</td>\n",
       "      <td>7</td>\n",
       "    </tr>\n",
       "    <tr>\n",
       "      <th>25</th>\n",
       "      <td>654c638629b8fc</td>\n",
       "      <td>8</td>\n",
       "    </tr>\n",
       "  </tbody>\n",
       "</table>\n",
       "</div>"
      ],
      "text/plain": [
       "           groupId  players\n",
       "0   1d31d15e045c4d        1\n",
       "1   2cdf256e3c2c1d        1\n",
       "2   0b4bf93ca082a4        2\n",
       "3   30e393959e45ac        2\n",
       "4   a27667dbecd7d7        2\n",
       "5   168d1fc8ebe03c        3\n",
       "6   2af5c87d86546d        3\n",
       "7   2f8336736f3be2        3\n",
       "8   d7d1cd054b0f5b        3\n",
       "9   c92eb4405f4d3a        3\n",
       "10  e93dfe8291d05c        3\n",
       "11  e3b971e00acee4        4\n",
       "12  92a09f0a596787        4\n",
       "13  7e5fb71e05a678        4\n",
       "14  74898d59ac4879        4\n",
       "15  64903e9ba2e503        4\n",
       "16  5ddf679672a972        4\n",
       "17  5112ebf44e9575        4\n",
       "18  4d4b580de459be        4\n",
       "19  3fe42857a5d0e3        4\n",
       "20  69c3ba1a23df2a        4\n",
       "21  a269f08371068b        5\n",
       "22  432b8256f23c7e        5\n",
       "23  edbce070d4ee9d        5\n",
       "24  80d9f9014c6e68        7\n",
       "25  654c638629b8fc        8"
      ]
     },
     "execution_count": 14,
     "metadata": {},
     "output_type": "execute_result"
    }
   ],
   "source": [
    "playerCountGroup"
   ]
  },
  {
   "cell_type": "markdown",
   "metadata": {
    "_uuid": "8eeaf51cece66b5ce36528a233402e1344875775"
   },
   "source": [
    "Various number of players in a group may exist in one match. Player queuing solo will be in a group with only 1 member."
   ]
  },
  {
   "cell_type": "code",
   "execution_count": 15,
   "metadata": {
    "_uuid": "398bb9663fb8d73804094db9b15a5a11afbe7c4c"
   },
   "outputs": [
    {
     "name": "stdout",
     "output_type": "stream",
     "text": [
      "Total players: 96\n",
      "Total groups: 26\n"
     ]
    }
   ],
   "source": [
    "### Total players in this match\n",
    "print(\"Total players: {}\".format(playerCountGroup.players.sum()))\n",
    "print(\"Total groups: {}\".format(playerCountGroup.groupId.count()))"
   ]
  },
  {
   "cell_type": "markdown",
   "metadata": {
    "_uuid": "e836f8f42d6e31e0507d844f9d402b2bc0f7228d"
   },
   "source": [
    "Now notice the distribution of placement ranking which we would like to predict"
   ]
  },
  {
   "cell_type": "code",
   "execution_count": 16,
   "metadata": {
    "_uuid": "4835e9f1f2321c281439faa21e03f14b7a476895",
    "scrolled": true
   },
   "outputs": [
    {
     "data": {
      "text/html": [
       "<div>\n",
       "<style scoped>\n",
       "    .dataframe tbody tr th:only-of-type {\n",
       "        vertical-align: middle;\n",
       "    }\n",
       "\n",
       "    .dataframe tbody tr th {\n",
       "        vertical-align: top;\n",
       "    }\n",
       "\n",
       "    .dataframe thead th {\n",
       "        text-align: right;\n",
       "    }\n",
       "</style>\n",
       "<table border=\"1\" class=\"dataframe\">\n",
       "  <thead>\n",
       "    <tr style=\"text-align: right;\">\n",
       "      <th></th>\n",
       "      <th>winPlacePerc</th>\n",
       "    </tr>\n",
       "  </thead>\n",
       "  <tbody>\n",
       "    <tr>\n",
       "      <th>0</th>\n",
       "      <td>0.0000</td>\n",
       "    </tr>\n",
       "    <tr>\n",
       "      <th>1</th>\n",
       "      <td>0.0370</td>\n",
       "    </tr>\n",
       "    <tr>\n",
       "      <th>2</th>\n",
       "      <td>0.0741</td>\n",
       "    </tr>\n",
       "    <tr>\n",
       "      <th>3</th>\n",
       "      <td>0.1111</td>\n",
       "    </tr>\n",
       "    <tr>\n",
       "      <th>4</th>\n",
       "      <td>0.1481</td>\n",
       "    </tr>\n",
       "    <tr>\n",
       "      <th>5</th>\n",
       "      <td>0.1852</td>\n",
       "    </tr>\n",
       "    <tr>\n",
       "      <th>6</th>\n",
       "      <td>0.2222</td>\n",
       "    </tr>\n",
       "    <tr>\n",
       "      <th>7</th>\n",
       "      <td>0.2593</td>\n",
       "    </tr>\n",
       "    <tr>\n",
       "      <th>8</th>\n",
       "      <td>0.2963</td>\n",
       "    </tr>\n",
       "    <tr>\n",
       "      <th>9</th>\n",
       "      <td>0.3333</td>\n",
       "    </tr>\n",
       "    <tr>\n",
       "      <th>10</th>\n",
       "      <td>0.3704</td>\n",
       "    </tr>\n",
       "    <tr>\n",
       "      <th>11</th>\n",
       "      <td>0.4074</td>\n",
       "    </tr>\n",
       "    <tr>\n",
       "      <th>12</th>\n",
       "      <td>0.4444</td>\n",
       "    </tr>\n",
       "    <tr>\n",
       "      <th>13</th>\n",
       "      <td>0.4815</td>\n",
       "    </tr>\n",
       "    <tr>\n",
       "      <th>14</th>\n",
       "      <td>0.5185</td>\n",
       "    </tr>\n",
       "    <tr>\n",
       "      <th>15</th>\n",
       "      <td>0.5556</td>\n",
       "    </tr>\n",
       "    <tr>\n",
       "      <th>16</th>\n",
       "      <td>0.5926</td>\n",
       "    </tr>\n",
       "    <tr>\n",
       "      <th>17</th>\n",
       "      <td>0.6296</td>\n",
       "    </tr>\n",
       "    <tr>\n",
       "      <th>18</th>\n",
       "      <td>0.7407</td>\n",
       "    </tr>\n",
       "    <tr>\n",
       "      <th>19</th>\n",
       "      <td>0.7778</td>\n",
       "    </tr>\n",
       "    <tr>\n",
       "      <th>20</th>\n",
       "      <td>0.8148</td>\n",
       "    </tr>\n",
       "    <tr>\n",
       "      <th>21</th>\n",
       "      <td>0.8519</td>\n",
       "    </tr>\n",
       "    <tr>\n",
       "      <th>22</th>\n",
       "      <td>0.8889</td>\n",
       "    </tr>\n",
       "    <tr>\n",
       "      <th>23</th>\n",
       "      <td>0.9259</td>\n",
       "    </tr>\n",
       "    <tr>\n",
       "      <th>24</th>\n",
       "      <td>0.9630</td>\n",
       "    </tr>\n",
       "    <tr>\n",
       "      <th>25</th>\n",
       "      <td>1.0000</td>\n",
       "    </tr>\n",
       "  </tbody>\n",
       "</table>\n",
       "</div>"
      ],
      "text/plain": [
       "    winPlacePerc\n",
       "0         0.0000\n",
       "1         0.0370\n",
       "2         0.0741\n",
       "3         0.1111\n",
       "4         0.1481\n",
       "5         0.1852\n",
       "6         0.2222\n",
       "7         0.2593\n",
       "8         0.2963\n",
       "9         0.3333\n",
       "10        0.3704\n",
       "11        0.4074\n",
       "12        0.4444\n",
       "13        0.4815\n",
       "14        0.5185\n",
       "15        0.5556\n",
       "16        0.5926\n",
       "17        0.6296\n",
       "18        0.7407\n",
       "19        0.7778\n",
       "20        0.8148\n",
       "21        0.8519\n",
       "22        0.8889\n",
       "23        0.9259\n",
       "24        0.9630\n",
       "25        1.0000"
      ]
     },
     "execution_count": 16,
     "metadata": {},
     "output_type": "execute_result"
    }
   ],
   "source": [
    "### Notice the percentage ranking\n",
    "matchA_df[['winPlacePerc']].drop_duplicates().sort_values('winPlacePerc').reset_index(drop=True)"
   ]
  },
  {
   "cell_type": "markdown",
   "metadata": {
    "_uuid": "9891d61efd83f3859b6c7b28f7fd4b1506657742"
   },
   "source": [
    "There are 26 placements which actually correspond to the number of groups. The interval could be retrieved using:"
   ]
  },
  {
   "cell_type": "code",
   "execution_count": 17,
   "metadata": {
    "_uuid": "5e35949a2c7062fe72fc494dfb6a473c9961505c"
   },
   "outputs": [
    {
     "name": "stdout",
     "output_type": "stream",
     "text": [
      "0.038461538461538464\n"
     ]
    }
   ],
   "source": [
    "### The increment of winPlacePerc is retrieved using:\n",
    "print((100/float(26))/100)"
   ]
  },
  {
   "cell_type": "markdown",
   "metadata": {
    "_uuid": "6f3110723a9584968c4226fc17d10adf70095a30"
   },
   "source": [
    "Because the ranking is spread based on the number of groups in one match, group level features need to be generated!"
   ]
  },
  {
   "cell_type": "code",
   "execution_count": 27,
   "metadata": {},
   "outputs": [],
   "source": [
    "### Generate group level features    \n",
    "\n",
    "def generate_group_level_features(dataset,feature_columns=['kills','assists','boosts']):\n",
    "    features = dataset[[\"matchId\",\"groupId\",\"winPlacePerc\",*feature_columns]].reset_index(drop=True)\n",
    "    plain = features[[\"matchId\",\"groupId\",\"winPlacePerc\"]].drop_duplicates().reset_index(drop=True)\n",
    "    \n",
    "    ### predefined basic statistic operations\n",
    "    _stats = ['max','min','sum','mean','std']\n",
    "    \n",
    "    for f in feature_columns:\n",
    "        for s in _stats:\n",
    "            new_field = '{s}_{f}'.format(s=s,f=f)\n",
    "            print(new_field)\n",
    "            plain = pd.merge(plain,\n",
    "                features.groupby([\"matchId\",\"groupId\"],as_index=False)\\\n",
    "                .agg({f:s}).rename(columns={f:new_field}).fillna(0)[[\"matchId\",\"groupId\",new_field]].drop_duplicates(),\n",
    "                on=['matchId','groupId'],how='inner'\n",
    "            )\n",
    "    return plain.reset_index(drop=True)\n",
    "    "
   ]
  },
  {
   "cell_type": "code",
   "execution_count": 29,
   "metadata": {
    "_uuid": "9b63ccbe900c92cdc6f6e2dabf2df453ddb0a871"
   },
   "outputs": [],
   "source": [
    "### sample of group level features\n",
    "#generate_group_level_features(matchA_df)"
   ]
  },
  {
   "cell_type": "code",
   "execution_count": 30,
   "metadata": {
    "_uuid": "95eec39121616975d1d0f8581404f651e16e3e64"
   },
   "outputs": [
    {
     "name": "stdout",
     "output_type": "stream",
     "text": [
      "max_kills\n",
      "min_kills\n",
      "sum_kills\n",
      "mean_kills\n",
      "std_kills\n",
      "max_assists\n",
      "min_assists\n",
      "sum_assists\n",
      "mean_assists\n",
      "std_assists\n",
      "max_boosts\n",
      "min_boosts\n",
      "sum_boosts\n",
      "mean_boosts\n",
      "std_boosts\n",
      "elapsed 283.9673399925232s\n"
     ]
    }
   ],
   "source": [
    "import time\n",
    "s = time.time()\n",
    "groupLevelFeatures = generate_group_level_features(train)\n",
    "e = time.time()\n",
    "print(\"elapsed {}s\".format(e-s))"
   ]
  },
  {
   "cell_type": "code",
   "execution_count": 33,
   "metadata": {
    "_uuid": "b8d32cd4c0d34883607c7ce8ab6168d34f7a790d"
   },
   "outputs": [],
   "source": [
    "groupLevelFeatures.to_csv(\"groupLevelFeatures.csv\",index=False)"
   ]
  },
  {
   "cell_type": "markdown",
   "metadata": {},
   "source": [
    "### 2. Split train test data"
   ]
  },
  {
   "cell_type": "code",
   "execution_count": 226,
   "metadata": {},
   "outputs": [],
   "source": [
    "from sklearn.model_selection import train_test_split\n",
    "train_matchId, test_matchId = train_test_split(unique_matchId,test_size=0.2)"
   ]
  },
  {
   "cell_type": "code",
   "execution_count": 232,
   "metadata": {},
   "outputs": [],
   "source": [
    "train_df = groupLevelFeatures[groupLevelFeatures.matchId.isin(train_matchId)].\\\n",
    "                                                         sort_values(by=['matchId','winPlacePerc'],\n",
    "                                                                     ascending=False).reset_index(drop=True)\n",
    "test_df = groupLevelFeatures[groupLevelFeatures.matchId.isin(test_matchId)].\\\n",
    "                                                        sort_values(by=['matchId','winPlacePerc'],\n",
    "                                                                     ascending=False).reset_index(drop=True)"
   ]
  },
  {
   "cell_type": "code",
   "execution_count": 245,
   "metadata": {},
   "outputs": [
    {
     "name": "stderr",
     "output_type": "stream",
     "text": [
      "/Users/bramth/miniconda2/envs/dst/lib/python3.5/site-packages/ipykernel_launcher.py:5: SettingWithCopyWarning: \n",
      "A value is trying to be set on a copy of a slice from a DataFrame.\n",
      "Try using .loc[row_indexer,col_indexer] = value instead\n",
      "\n",
      "See the caveats in the documentation: http://pandas.pydata.org/pandas-docs/stable/indexing.html#indexing-view-versus-copy\n",
      "  \"\"\"\n",
      "/Users/bramth/miniconda2/envs/dst/lib/python3.5/site-packages/ipykernel_launcher.py:8: SettingWithCopyWarning: \n",
      "A value is trying to be set on a copy of a slice from a DataFrame.\n",
      "Try using .loc[row_indexer,col_indexer] = value instead\n",
      "\n",
      "See the caveats in the documentation: http://pandas.pydata.org/pandas-docs/stable/indexing.html#indexing-view-versus-copy\n",
      "  \n"
     ]
    }
   ],
   "source": [
    "train_matches = train_df[['matchId']]\n",
    "train_matches['count'] = 1\n",
    "\n",
    "test_matches = test_df[['matchId']]\n",
    "test_matches['count'] = 1"
   ]
  },
  {
   "cell_type": "code",
   "execution_count": 267,
   "metadata": {},
   "outputs": [],
   "source": [
    "features = train_df.drop(['matchId','groupId','winPlacePerc'],1).columns"
   ]
  },
  {
   "cell_type": "code",
   "execution_count": 255,
   "metadata": {},
   "outputs": [],
   "source": [
    "train_y = train_df['winPlacePerc'].values\n",
    "train_x = train_df.drop(['matchId','groupId','winPlacePerc'],1).values\n",
    "train_group_x = train_matches.groupby(\"matchId\",as_index=False).count().\\\n",
    "                              sort_values(by=['matchId'],ascending=False)['count'].values"
   ]
  },
  {
   "cell_type": "code",
   "execution_count": 256,
   "metadata": {},
   "outputs": [],
   "source": [
    "test_y = test_df['winPlacePerc'].values\n",
    "test_x = test_df.drop(['matchId','groupId','winPlacePerc'],1).values\n",
    "test_group_x = test_matches.groupby(\"matchId\",as_index=False).count().\\\n",
    "                            sort_values(by=['matchId'],ascending=False)['count'].values"
   ]
  },
  {
   "cell_type": "markdown",
   "metadata": {},
   "source": [
    "### 3. Train XGBoost Model"
   ]
  },
  {
   "cell_type": "markdown",
   "metadata": {},
   "source": [
    "### Notes"
   ]
  },
  {
   "cell_type": "markdown",
   "metadata": {},
   "source": [
    "Ensemble Learning\n",
    "1. *Bagging*:\n",
    "    Generate weak learners, in the end the prediction is the result of voting or getting weighting average of \n",
    "    predictors. Weak learners could be learned in parallel. One example of bagging: random forest\n",
    "2. *Boosting*:\n",
    "    Sequentially learn the predictors, thus learning predictor at time t depends on predictor at time t-1\n",
    "    Boosting learns by modifying the data by weights for each iteration. Data points which are mistakenly \n",
    "    predicted will be assigned more weights than the correct ones. In the end, the predictors resulted from each \n",
    "    iteration will be again weighted to produce the final result."
   ]
  },
  {
   "cell_type": "code",
   "execution_count": 297,
   "metadata": {},
   "outputs": [
    {
     "data": {
      "text/plain": [
       "XGBRanker(base_score=0.5, booster='gbtree', colsample_bylevel=1,\n",
       "     colsample_bytree=1, gamma=1.0, learning_rate=0.1, max_delta_step=0,\n",
       "     max_depth=6, min_child_weight=0.1, missing=None, n_estimators=100,\n",
       "     n_jobs=-1, nthread=None, objective='rank:pairwise', random_state=0,\n",
       "     reg_alpha=0, reg_lambda=1, scale_pos_weight=1, seed=None, silent=True,\n",
       "     subsample=1)"
      ]
     },
     "execution_count": 297,
     "metadata": {},
     "output_type": "execute_result"
    }
   ],
   "source": [
    "### XGBoost with `rank:pairwise` objective parameter implement LambdaMARTs, a gradient boosted regression tree\n",
    "### with pairwise loss function as the objective function\n",
    "\n",
    "import xgboost as xgb\n",
    "params = {'objective': 'rank:pairwise', 'learning_rate': 0.1,\n",
    "          'gamma': 1.0, 'min_child_weight': 0.1,\n",
    "          'max_depth': 6, 'n_estimators': 100}\n",
    "model = xgb.sklearn.XGBRanker(**params)\n",
    "model.fit(train_x, train_y, train_group_x,\n",
    "          eval_set=[(test_x, test_y)], eval_group=[test_group_x], eval_metric=\"ndcg\")"
   ]
  },
  {
   "cell_type": "code",
   "execution_count": 299,
   "metadata": {},
   "outputs": [
    {
     "data": {
      "text/plain": [
       "array([0.07843138, 0.01317904, 0.10800385, 0.19366764, 0.05528769,\n",
       "       0.02362584, 0.00900032, 0.01783992, 0.12375442, 0.02812601,\n",
       "       0.04243009, 0.00658952, 0.10045002, 0.16602379, 0.03359048],\n",
       "      dtype=float32)"
      ]
     },
     "execution_count": 299,
     "metadata": {},
     "output_type": "execute_result"
    }
   ],
   "source": [
    "model.feature_importances_"
   ]
  },
  {
   "cell_type": "code",
   "execution_count": 300,
   "metadata": {},
   "outputs": [
    {
     "data": {
      "text/plain": [
       "Index(['max_kills', 'min_kills', 'sum_kills', 'mean_kills', 'std_kills',\n",
       "       'max_assists', 'min_assists', 'sum_assists', 'mean_assists',\n",
       "       'std_assists', 'max_boosts', 'min_boosts', 'sum_boosts', 'mean_boosts',\n",
       "       'std_boosts'],\n",
       "      dtype='object')"
      ]
     },
     "execution_count": 300,
     "metadata": {},
     "output_type": "execute_result"
    }
   ],
   "source": [
    "features"
   ]
  },
  {
   "cell_type": "code",
   "execution_count": 298,
   "metadata": {
    "scrolled": true
   },
   "outputs": [
    {
     "data": {
      "text/plain": [
       "0.698706"
      ]
     },
     "execution_count": 298,
     "metadata": {},
     "output_type": "execute_result"
    }
   ],
   "source": [
    "model.evals_result['eval_0']['ndcg'][-1]"
   ]
  },
  {
   "cell_type": "code",
   "execution_count": 302,
   "metadata": {},
   "outputs": [],
   "source": [
    "predict_y = model.predict(test_x)"
   ]
  },
  {
   "cell_type": "code",
   "execution_count": 305,
   "metadata": {},
   "outputs": [
    {
     "data": {
      "text/plain": [
       "array([1.    , 0.9792, 0.9583, 0.9375, 0.9167, 0.8958, 0.875 , 0.8542,\n",
       "       0.8333, 0.7917, 0.7708, 0.75  , 0.7292, 0.7083, 0.6875, 0.6667,\n",
       "       0.6458, 0.625 , 0.6042, 0.5833, 0.5625, 0.5417, 0.5208, 0.5   ,\n",
       "       0.4792, 0.4583, 0.4375, 0.4167, 0.3958, 0.375 , 0.3542, 0.3333,\n",
       "       0.2917, 0.2708, 0.25  , 0.2292, 0.2083, 0.1875, 0.1667, 0.1458,\n",
       "       0.125 , 0.1042, 0.0833, 0.0625, 0.0417, 0.0208, 0.    , 1.    ,\n",
       "       0.9896, 0.9792])"
      ]
     },
     "execution_count": 305,
     "metadata": {},
     "output_type": "execute_result"
    }
   ],
   "source": [
    "test_y[:50]"
   ]
  },
  {
   "cell_type": "code",
   "execution_count": 307,
   "metadata": {},
   "outputs": [
    {
     "data": {
      "text/plain": [
       "array([ 4.298759  ,  3.017995  ,  1.7691667 ,  2.4268959 ,  0.33955976,\n",
       "        0.8372288 ,  2.1051717 ,  3.0273948 , -0.84029293, -0.84029293,\n",
       "        1.7917778 ,  1.3565059 ,  1.5995853 ,  0.53694296,  2.2115228 ,\n",
       "       -0.41561097,  0.35322827,  2.1025717 ,  0.48568332,  0.4705562 ,\n",
       "       -0.18715703,  0.4317113 ,  0.8372288 ,  1.0043198 , -0.78953445,\n",
       "        1.0022988 , -0.25386262, -0.24968225, -0.25386262, -0.5888181 ,\n",
       "        0.23670664,  0.35322827, -0.84029293, -0.84029293, -0.78953445,\n",
       "       -0.41561097, -0.84029293, -1.0669757 , -1.0220795 , -0.84029293,\n",
       "       -0.84029293, -0.78953445, -0.78953445, -0.5609834 , -0.41561097,\n",
       "       -0.84029293, -0.84029293,  3.0576687 ,  3.6018481 ,  3.2500787 ],\n",
       "      dtype=float32)"
      ]
     },
     "execution_count": 307,
     "metadata": {},
     "output_type": "execute_result"
    }
   ],
   "source": [
    "predict_y[:50]"
   ]
  },
  {
   "cell_type": "markdown",
   "metadata": {},
   "source": [
    "### TODO"
   ]
  },
  {
   "cell_type": "markdown",
   "metadata": {
    "_uuid": "e6c419cd2a470535a936e87cfee8146996d3db44"
   },
   "source": [
    "### - Separate Game Modes data"
   ]
  },
  {
   "cell_type": "markdown",
   "metadata": {
    "_uuid": "c4c361268b6db20b2b870632c7a965c759650cf5"
   },
   "source": [
    "(TODO) <br>\n",
    "There are several game modes / match types in PUBG <br>\n",
    "https://pubg.gamepedia.com/Game_Modes <br>\n",
    "Patterns might differ for example between First Person Mode and Third Person Mode even though the players are on solo queue game."
   ]
  },
  {
   "cell_type": "markdown",
   "metadata": {
    "_uuid": "bdfc891c86366a662a0f67f44fe41799ab7bd06d"
   },
   "source": [
    "### - Eliminate Anomalies"
   ]
  },
  {
   "cell_type": "markdown",
   "metadata": {
    "_uuid": "d9c1b878626175835963578f971646c733030316"
   },
   "source": [
    "(TODO) <br>\n",
    "There are already existing kernel out there mentioning anomalies or cheaters in PUBG matches. <br>\n",
    "We need to adopt some of them."
   ]
  },
  {
   "cell_type": "markdown",
   "metadata": {
    "_uuid": "b275772c984963728ef035e058fb3ed51c2259c0"
   },
   "source": [
    "### - Prediction Functions"
   ]
  },
  {
   "cell_type": "markdown",
   "metadata": {
    "_uuid": "b71edc375693af6ee61ab99b014050845e525156"
   },
   "source": [
    "(TODO) <br>\n",
    "Because how dynamic a winPlacePerc value can be, custom prediction function needs to be developed"
   ]
  }
 ],
 "metadata": {
  "kernelspec": {
   "display_name": "dst",
   "language": "python",
   "name": "dst"
  },
  "language_info": {
   "codemirror_mode": {
    "name": "ipython",
    "version": 3
   },
   "file_extension": ".py",
   "mimetype": "text/x-python",
   "name": "python",
   "nbconvert_exporter": "python",
   "pygments_lexer": "ipython3",
   "version": "3.5.6"
  }
 },
 "nbformat": 4,
 "nbformat_minor": 1
}
